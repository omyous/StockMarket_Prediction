{
 "cells": [
  {
   "cell_type": "code",
   "execution_count": 12,
   "metadata": {
    "collapsed": true
   },
   "outputs": [
    {
     "name": "stdout",
     "output_type": "stream",
     "text": [
      "Collecting python-binance\r\n",
      "  Using cached https://files.pythonhosted.org/packages/02/ba/d253c7d0bd5c81a6cccd57140f13925e13995aeb0070ff58decd22d44793/python_binance-0.7.5-py2.py3-none-any.whl\r\n",
      "Collecting autobahn\r\n",
      "  Using cached https://files.pythonhosted.org/packages/a6/56/c218e6ffadbc42a5e0ba8a837a6cc57fa2dd98ab8350e5097a724e7abfd7/autobahn-20.4.3-py2.py3-none-any.whl\r\n",
      "Collecting pyOpenSSL\r\n",
      "  Using cached https://files.pythonhosted.org/packages/9e/de/f8342b68fa9e981d348039954657bdf681b2ab93de27443be51865ffa310/pyOpenSSL-19.1.0-py2.py3-none-any.whl\r\n",
      "Requirement already satisfied: six in /usr/lib/python3/dist-packages (from python-binance) (1.11.0)\r\n",
      "Collecting service-identity\r\n",
      "  Using cached https://files.pythonhosted.org/packages/e9/7c/2195b890023e098f9618d43ebc337d83c8b38d414326685339eb024db2f6/service_identity-18.1.0-py2.py3-none-any.whl\r\n",
      "Requirement already satisfied: urllib3 in /usr/lib/python3/dist-packages (from python-binance) (1.22)\r\n",
      "Requirement already satisfied: certifi in /usr/lib/python3/dist-packages (from python-binance) (2018.8.24)\r\n",
      "Collecting dateparser\r\n",
      "  Using cached https://files.pythonhosted.org/packages/ad/0c/aba72d8454c28ab3800f3efd1ab3fe4f3fa41eb2746adc0cdcb318200796/dateparser-0.7.4-py2.py3-none-any.whl\r\n",
      "Requirement already satisfied: cryptography in /usr/lib/python3/dist-packages (from python-binance) (2.3)\r\n",
      "Collecting Twisted\r\n",
      "  Using cached https://files.pythonhosted.org/packages/b7/04/1a664c9e5ec0224a1c1a154ddecaa4dc7b8967521bba225efcc41a03d5f3/Twisted-20.3.0-cp36-cp36m-manylinux1_x86_64.whl\r\n",
      "Requirement already satisfied: requests in /usr/lib/python3/dist-packages (from python-binance) (2.18.4)\r\n",
      "Collecting txaio>=20.3.1\r\n",
      "  Using cached https://files.pythonhosted.org/packages/4f/82/0cd8d81d57e55a598cd4cef10c6e971dbcaf437e4f138dc1624cf7c1388e/txaio-20.4.1-py2.py3-none-any.whl\r\n",
      "Requirement already satisfied: attrs>=16.0.0 in /usr/local/lib/python3.6/dist-packages (from service-identity->python-binance) (19.1.0)\r\n",
      "Requirement already satisfied: pyasn1 in /usr/local/lib/python3.6/dist-packages (from service-identity->python-binance) (0.4.5)\r\n",
      "Requirement already satisfied: pyasn1-modules in /usr/local/lib/python3.6/dist-packages (from service-identity->python-binance) (0.2.4)\r\n",
      "Collecting regex!=2019.02.19\r\n",
      "  Using cached https://files.pythonhosted.org/packages/60/7c/0d46b10a87b3087e8e303fac923beb19ec839d7c5ea34971a12fafb22b52/regex-2020.5.14-cp36-cp36m-manylinux2010_x86_64.whl\r\n",
      "Requirement already satisfied: python-dateutil in /usr/local/lib/python3.6/dist-packages (from dateparser->python-binance) (2.8.0)\r\n",
      "Requirement already satisfied: pytz in /usr/lib/python3/dist-packages (from dateparser->python-binance) (2018.5)\r\n",
      "Collecting tzlocal\r\n",
      "  Using cached https://files.pythonhosted.org/packages/5d/94/d47b0fd5988e6b7059de05720a646a2930920fff247a826f61674d436ba4/tzlocal-2.1-py2.py3-none-any.whl\r\n",
      "Collecting hyperlink>=17.1.1\r\n",
      "  Using cached https://files.pythonhosted.org/packages/7f/91/e916ca10a2de1cb7101a9b24da546fb90ee14629e23160086cf3361c4fb8/hyperlink-19.0.0-py2.py3-none-any.whl\r\n",
      "Collecting incremental>=16.10.1\r\n",
      "  Using cached https://files.pythonhosted.org/packages/f5/1d/c98a587dc06e107115cf4a58b49de20b19222c83d75335a192052af4c4b7/incremental-17.5.0-py2.py3-none-any.whl\r\n",
      "Collecting Automat>=0.3.0\r\n",
      "  Using cached https://files.pythonhosted.org/packages/dd/83/5f6f3c1a562674d65efc320257bdc0873ec53147835aeef7762fe7585273/Automat-20.2.0-py2.py3-none-any.whl\r\n",
      "Collecting zope.interface>=4.4.2\r\n",
      "  Using cached https://files.pythonhosted.org/packages/57/33/565274c28a11af60b7cfc0519d46bde4125fcd7d32ebc0a81b480d0e8da6/zope.interface-5.1.0-cp36-cp36m-manylinux2010_x86_64.whl\r\n",
      "Collecting constantly>=15.1\r\n",
      "  Using cached https://files.pythonhosted.org/packages/b9/65/48c1909d0c0aeae6c10213340ce682db01b48ea900a7d9fce7a7910ff318/constantly-15.1.0-py2.py3-none-any.whl\r\n",
      "Collecting PyHamcrest!=1.10.0,>=1.9.0\r\n",
      "  Using cached https://files.pythonhosted.org/packages/40/16/e54cc65891f01cb62893540f44ffd3e8dab0a22443e1b438f1a9f5574bee/PyHamcrest-2.0.2-py3-none-any.whl\r\n",
      "Requirement already satisfied: idna>=2.5 in /usr/lib/python3/dist-packages (from hyperlink>=17.1.1->Twisted->python-binance) (2.6)\r\n",
      "Requirement already satisfied: setuptools in /usr/local/lib/python3.6/dist-packages (from zope.interface>=4.4.2->Twisted->python-binance) (41.6.0)\r\n",
      "\u001B[31mERROR: autobahn 20.4.3 has requirement cryptography>=2.7, but you'll have cryptography 2.3 which is incompatible.\u001B[0m\r\n",
      "\u001B[31mERROR: pyopenssl 19.1.0 has requirement cryptography>=2.8, but you'll have cryptography 2.3 which is incompatible.\u001B[0m\r\n",
      "\u001B[31mERROR: automat 20.2.0 has requirement attrs>=19.2.0, but you'll have attrs 19.1.0 which is incompatible.\u001B[0m\r\n",
      "\u001B[31mERROR: twisted 20.3.0 has requirement attrs>=19.2.0, but you'll have attrs 19.1.0 which is incompatible.\u001B[0m\r\n",
      "Installing collected packages: txaio, autobahn, pyOpenSSL, service-identity, regex, tzlocal, dateparser, hyperlink, incremental, Automat, zope.interface, constantly, PyHamcrest, Twisted, python-binance\r\n",
      "\u001B[31mERROR: Could not install packages due to an EnvironmentError: [Errno 13] Permission non accordée: '/usr/local/lib/python3.6/dist-packages/txaio'\r\n",
      "Consider using the `--user` option or check the permissions.\r\n",
      "\u001B[0m\r\n",
      "\u001B[33mWARNING: You are using pip version 19.3.1; however, version 20.1.1 is available.\r\n",
      "You should consider upgrading via the 'pip install --upgrade pip' command.\u001B[0m\r\n"
     ]
    }
   ],
   "source": [
    "!python3 -m pip install python-binance"
   ]
  },
  {
   "cell_type": "code",
   "execution_count": 11,
   "outputs": [
    {
     "ename": "ModuleNotFoundError",
     "evalue": "No module named 'binance'",
     "output_type": "error",
     "traceback": [
      "\u001B[0;31m---------------------------------------------------------------------------\u001B[0m",
      "\u001B[0;31mModuleNotFoundError\u001B[0m                       Traceback (most recent call last)",
      "\u001B[0;32m<ipython-input-11-79e21e55e1cb>\u001B[0m in \u001B[0;36m<module>\u001B[0;34m\u001B[0m\n\u001B[0;32m----> 1\u001B[0;31m \u001B[0;32mfrom\u001B[0m \u001B[0mbinance\u001B[0m\u001B[0;34m.\u001B[0m\u001B[0mclient\u001B[0m \u001B[0;32mimport\u001B[0m \u001B[0mClient\u001B[0m\u001B[0;34m\u001B[0m\u001B[0;34m\u001B[0m\u001B[0m\n\u001B[0m",
      "\u001B[0;31mModuleNotFoundError\u001B[0m: No module named 'binance'"
     ]
    }
   ],
   "source": [],
   "metadata": {
    "collapsed": false,
    "pycharm": {
     "name": "#%%\n"
    }
   }
  },
  {
   "cell_type": "code",
   "execution_count": null,
   "outputs": [],
   "source": [
    "\n"
   ],
   "metadata": {
    "collapsed": false,
    "pycharm": {
     "name": "#%%\n"
    }
   }
  }
 ],
 "metadata": {
  "kernelspec": {
   "display_name": "Python 3",
   "language": "python",
   "name": "python3"
  },
  "language_info": {
   "codemirror_mode": {
    "name": "ipython",
    "version": 2
   },
   "file_extension": ".py",
   "mimetype": "text/x-python",
   "name": "python",
   "nbconvert_exporter": "python",
   "pygments_lexer": "ipython2",
   "version": "2.7.6"
  }
 },
 "nbformat": 4,
 "nbformat_minor": 0
}